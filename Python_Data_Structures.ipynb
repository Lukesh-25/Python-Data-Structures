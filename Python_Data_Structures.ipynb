{
  "nbformat": 4,
  "nbformat_minor": 0,
  "metadata": {
    "colab": {
      "provenance": []
    },
    "kernelspec": {
      "name": "python3",
      "display_name": "Python 3"
    },
    "language_info": {
      "name": "python"
    }
  },
  "cells": [
    {
      "cell_type": "markdown",
      "source": [
        "# Data Types and Structures"
      ],
      "metadata": {
        "id": "ZtH0YJ5XYvah"
      }
    },
    {
      "cell_type": "markdown",
      "source": [
        "\n",
        "# 1. What are data structures, and why are they important?\n",
        "  ->\n",
        "\n",
        "Data structures are specialized formats used to organize, process, and store data efficiently in computer memory. They define the relationship between data elements and the operations that can be performed on them. Common data structures include arrays, linked lists, stacks, queues, hash tables, trees, and graphs.\n",
        "\n",
        "Each data structure is designed to organize data to suit specific types of applications and improve the efficiency of algorithms. For example, arrays are suitable for storing elements in a fixed order, while linked lists are useful when frequent insertions and deletions are required. Hash tables provide fast access to data using keys, and trees or graphs are ideal for representing hierarchical or networked data.\n",
        "\n",
        "Importance of Data Structures:\n",
        "\n",
        "  1. Efficiency: Proper data structures improve the performance of algorithms in terms of time and space complexity.\n",
        "\n",
        "  2. Data Management: They help manage large amounts of data in a structured and logical manner.\n",
        "\n",
        "  3. Reusability: Standard data structures can be reused in different programs, saving development time.\n",
        "\n",
        "  4. Scalability: Efficient data structures support the growth of applications without significant loss in performance.\n",
        "\n",
        "  5. Problem Solving: Many algorithms rely on specific data structures, making them essential in solving computational problems.\n",
        "\n",
        "In conclusion, data structures are the foundation of efficient programming. They are essential for building reliable, fast, and scalable software systems.\n",
        "\n",
        "# 2. Explain the difference between mutable and immutable data types with examples?\n",
        "\n",
        "  ->\n",
        "\n",
        "  In programming, mutable and immutable are terms used to describe whether or not a data type can be changed after it is created.\n",
        "\n",
        "1. Mutable Data Types:\n",
        "\n",
        "Mutable data types can be changed after their creation. This means the content (like elements in a list) can be modified without changing the identity of the object.\n",
        "\n",
        "# Examples:\n",
        "\n",
        "# 1. List (in Python)\n"
      ],
      "metadata": {
        "id": "O_HKu_QH1XyC"
      }
    },
    {
      "cell_type": "code",
      "source": [
        "my_list = [1, 2, 3]\n",
        "my_list[0] = 10\n",
        "print(my_list)\n"
      ],
      "metadata": {
        "colab": {
          "base_uri": "https://localhost:8080/"
        },
        "id": "NYRcC41c27En",
        "outputId": "931df13d-6c9d-4f96-ab3a-9dc24121da83"
      },
      "execution_count": 1,
      "outputs": [
        {
          "output_type": "stream",
          "name": "stdout",
          "text": [
            "[10, 2, 3]\n"
          ]
        }
      ]
    },
    {
      "cell_type": "markdown",
      "source": [
        "# 2. Dictionary (in Python)"
      ],
      "metadata": {
        "id": "9Yl469Lw3Lor"
      }
    },
    {
      "cell_type": "code",
      "source": [
        "my_dict = {'name': 'Alice'}\n",
        "my_dict['name'] = 'Bob'\n",
        "print(my_dict)\n"
      ],
      "metadata": {
        "colab": {
          "base_uri": "https://localhost:8080/"
        },
        "id": "i-EN1MrT3EbJ",
        "outputId": "1515d5e1-3592-4b9e-9a43-1162f4cab318"
      },
      "execution_count": 2,
      "outputs": [
        {
          "output_type": "stream",
          "name": "stdout",
          "text": [
            "{'name': 'Bob'}\n"
          ]
        }
      ]
    },
    {
      "cell_type": "markdown",
      "source": [
        "# 2. Immutable Data Types:\n",
        "Immutable data types cannot be changed after they are created. If you try to modify them, a new object is created instead.\n",
        "\n",
        "# Examples:\n",
        "\n",
        "# 1. String (in Python)\n"
      ],
      "metadata": {
        "id": "q-v47EQU3hFj"
      }
    },
    {
      "cell_type": "code",
      "source": [
        "my_str = \"Hello\"\n",
        "my_str = \"World\"\n"
      ],
      "metadata": {
        "id": "TqK7epEh3f_y"
      },
      "execution_count": 3,
      "outputs": []
    },
    {
      "cell_type": "markdown",
      "source": [
        "# 2. Tuple (in Python)"
      ],
      "metadata": {
        "id": "9CtsTht03z7Z"
      }
    },
    {
      "cell_type": "code",
      "source": [
        "my_tuple = (1, 2, 3)\n"
      ],
      "metadata": {
        "id": "AVjttcr33ZWl"
      },
      "execution_count": 4,
      "outputs": []
    },
    {
      "cell_type": "markdown",
      "source": [
        "# 3. What are the main differences between lists and tuples in Python?\n",
        "->\n",
        "\n",
        "In Python, both lists and tuples are built-in data structures that are used to store a collection of items. While they may appear similar in many ways, they have several important differences in terms of mutability, performance, usage, and features.\n",
        "\n",
        "# 1. Mutability:\n",
        "The most significant difference between lists and tuples is that lists are mutable, while tuples are immutable.\n",
        "\n",
        "Lists allow modification. You can add, delete, or update elements after the list has been created.\n",
        "\n",
        "Tuples, on the other hand, do not allow any change once they are created. You cannot add or remove elements, or even change the value of an existing element.\n",
        "\n",
        "#Example:\n"
      ],
      "metadata": {
        "id": "y_hd1Kzt3_8k"
      }
    },
    {
      "cell_type": "code",
      "source": [
        "# List\n",
        "my_list = [10, 20, 30]\n",
        "my_list[0] = 100\n",
        "my_list.append(40)\n",
        "\n",
        "\n",
        "# Tuple\n",
        "my_tuple = (10, 20, 30)"
      ],
      "metadata": {
        "id": "v9oEkFuK36Ul"
      },
      "execution_count": 6,
      "outputs": []
    },
    {
      "cell_type": "markdown",
      "source": [
        "# 2. Syntax:"
      ],
      "metadata": {
        "id": "Jm9euLC665gK"
      }
    },
    {
      "cell_type": "markdown",
      "source": [
        "Another basic difference lies in how the two are defined:\n",
        "\n",
        "* Lists are defined using square brackets:\n"
      ],
      "metadata": {
        "id": "b0BOQ6kW6_j7"
      }
    },
    {
      "cell_type": "code",
      "source": [
        "my_list = [1, 2, 3]\n"
      ],
      "metadata": {
        "id": "CY-VQ-6Z6uOx"
      },
      "execution_count": 7,
      "outputs": []
    },
    {
      "cell_type": "markdown",
      "source": [
        "* Tuples are defined using parentheses:\n"
      ],
      "metadata": {
        "id": "9ybvUIS98slS"
      }
    },
    {
      "cell_type": "code",
      "source": [
        "my_tuple = (1, 2, 3)\n"
      ],
      "metadata": {
        "id": "jujJt1gN8rWy"
      },
      "execution_count": 8,
      "outputs": []
    },
    {
      "cell_type": "markdown",
      "source": [
        "Note:\n",
        "\n",
        "A single-element tuple must include a comma to distinguish it from a regular value:"
      ],
      "metadata": {
        "id": "Q3_TnqeS86EL"
      }
    },
    {
      "cell_type": "code",
      "source": [
        "single_tuple = (5,)  # This is a tuple\n",
        "not_a_tuple = (5)    # This is just an integer\n"
      ],
      "metadata": {
        "id": "skXUwKA683J4"
      },
      "execution_count": 9,
      "outputs": []
    },
    {
      "cell_type": "markdown",
      "source": [
        "# 3. Performance:\n",
        "* Tuples are faster than lists when it comes to iteration and data access. This is because they are immutable and use less memory.\n",
        "\n",
        "* Lists, being mutable and dynamic, have additional memory and performance overhead.\n",
        "\n",
        "In performance-critical applications or when working with large data sets, tuples may offer an advantage due to their reduced memory usage and faster processing speed.\n",
        "\n",
        "# 4. Built-in Methods:\n",
        "1. Lists come with a larger number of built-in methods that allow modification, such as .append(), .remove(), .pop(), .extend(), and .sort().\n",
        "\n",
        "2. Tuples have fewer methods, mainly .count() and .index(), since they cannot be modified.\n",
        "\n",
        "# Example:\n",
        "\n"
      ],
      "metadata": {
        "id": "j26W1FOm9nXW"
      }
    },
    {
      "cell_type": "code",
      "source": [
        "# List Methods\n",
        "fruits = ['apple', 'banana']\n",
        "fruits.append('cherry')\n",
        "\n",
        "# Tuple Methods\n",
        "colors = ('red', 'blue', 'red')\n",
        "print(colors.count('red'))\n"
      ],
      "metadata": {
        "colab": {
          "base_uri": "https://localhost:8080/"
        },
        "id": "itTx7cUo9kJE",
        "outputId": "2f4b7255-f0cf-4a88-af54-65c4cc7b4d2d"
      },
      "execution_count": 11,
      "outputs": [
        {
          "output_type": "stream",
          "name": "stdout",
          "text": [
            "2\n"
          ]
        }
      ]
    },
    {
      "cell_type": "markdown",
      "source": [
        "# 4. Describe how dictionaries store data?\n",
        "->\n",
        "\n",
        "In Python, a dictionary is a built-in data structure that stores data in the form of key-value pairs. Each key is unique, and it maps to a corresponding value. Dictionaries are also known as associative arrays or hash maps in other programming languages.\n",
        "\n",
        "1. Structure of a Dictionary:\n",
        "A dictionary is defined using curly braces {}, with each key and value separated by a colon :.\n",
        "\n",
        "Example:"
      ],
      "metadata": {
        "id": "DlDQCqrC-lJK"
      }
    },
    {
      "cell_type": "code",
      "source": [
        "student = {\n",
        "    \"name\": \"Alice\",\n",
        "    \"age\": 20,\n",
        "    \"grade\": \"A\"\n",
        "}\n"
      ],
      "metadata": {
        "id": "eiClLJrz9-0_"
      },
      "execution_count": 12,
      "outputs": []
    },
    {
      "cell_type": "markdown",
      "source": [
        "2. How Dictionaries Store Data Internally:\n",
        "\n",
        "Dictionaries use a data structure called a hash table. Here's how it works:\n",
        "\n",
        "* Hashing the Key:\n",
        "When a key is added to the dictionary, it is passed through a hash function, which converts it into a unique hash code (an integer).\n",
        "\n",
        "* Indexing:\n",
        "The hash code determines where the key-value pair will be stored in memory.\n",
        "\n",
        "* Value Mapping:\n",
        "The key and value are stored together at the computed index, allowing for very fast lookups.\n",
        "\n",
        "3. Key Features:\n",
        "\n",
        "* Fast Access: Dictionaries allow data to be accessed quickly using keys (average time complexity is O(1)).\n",
        "\n",
        "*  Unordered (until Python 3.6): Before Python 3.7, dictionaries did not maintain insertion order. From Python 3.7 onward, insertion order is preserved.\n",
        "\n",
        "* Mutable: Dictionaries can be updated, added to, or have entries removed.\n",
        "\n",
        "Keys Must Be Immutable: Only immutable data types (like strings, numbers, and tuples) can be used as dictionary keys.\n",
        "\n",
        "# Example Operations:"
      ],
      "metadata": {
        "id": "18H9V2Ah-6U6"
      }
    },
    {
      "cell_type": "code",
      "source": [
        "# Create a dictionary\n",
        "person = {\"name\": \"John\", \"age\": 25}\n",
        "\n",
        "# Access a value\n",
        "print(person[\"name\"])\n",
        "\n",
        "# Add a new key-value pair\n",
        "person[\"gender\"] = \"Male\"\n",
        "\n",
        "# Update a value\n",
        "person[\"age\"] = 26\n",
        "\n",
        "# Delete a key-value pair\n",
        "del person[\"gender\"]\n"
      ],
      "metadata": {
        "colab": {
          "base_uri": "https://localhost:8080/"
        },
        "id": "TWXynID4-zqI",
        "outputId": "6bba1f36-fb3a-440d-cbfe-12466c82995b"
      },
      "execution_count": 13,
      "outputs": [
        {
          "output_type": "stream",
          "name": "stdout",
          "text": [
            "John\n"
          ]
        }
      ]
    },
    {
      "cell_type": "markdown",
      "source": [
        "# 5. Why might you use a set instead of a list in Python?\n",
        "->\n",
        "\n",
        "# Reasons to Use a Set Instead of a List:\n",
        "1. To Remove Duplicates:\n",
        "\n",
        " * Sets automatically eliminate duplicate values. If you have a list with repeated items and only want unique elements, converting it to a set is an easy solution.\n"
      ],
      "metadata": {
        "id": "K-s7qP0XAIrV"
      }
    },
    {
      "cell_type": "code",
      "source": [
        "my_list = [1, 2, 2, 3]\n",
        "unique_set = set(my_list)  # {1, 2, 3}\n"
      ],
      "metadata": {
        "id": "RikfYe-H_hRp"
      },
      "execution_count": 14,
      "outputs": []
    },
    {
      "cell_type": "markdown",
      "source": [
        "2. Faster Membership Testing:\n",
        "\n",
        " * Checking if an item exists in a set is much faster (average O(1) time complexity) than in a list (average O(n)).\n"
      ],
      "metadata": {
        "id": "qLBHgR2_Aoce"
      }
    },
    {
      "cell_type": "code",
      "source": [
        "item in my_set  # Fast\n",
        "item in my_list  # Slower\n"
      ],
      "metadata": {
        "id": "Isaefe9TAynG"
      },
      "execution_count": null,
      "outputs": []
    },
    {
      "cell_type": "markdown",
      "source": [
        "3. Mathematical Set Operations:\n",
        "\n",
        " * Sets support operations like union, intersection, and difference, which are useful in tasks like filtering, comparison, and data analysis."
      ],
      "metadata": {
        "id": "InC_8NGqBI_4"
      }
    },
    {
      "cell_type": "code",
      "source": [
        "set1 = {1, 2, 3}\n",
        "set2 = {3, 4, 5}\n",
        "print(set1 & set2)  # Intersection → {3}\n"
      ],
      "metadata": {
        "colab": {
          "base_uri": "https://localhost:8080/"
        },
        "id": "2povZzxBBSeo",
        "outputId": "16b29100-6a91-49e8-d198-692ecee3adac"
      },
      "execution_count": 16,
      "outputs": [
        {
          "output_type": "stream",
          "name": "stdout",
          "text": [
            "{3}\n"
          ]
        }
      ]
    },
    {
      "cell_type": "markdown",
      "source": [
        "4. Cleaner Code When Order Isn’t Important:\n",
        "\n",
        " * If you don’t care about the order of items and just need to store distinct values, a set makes your intention clearer and avoids unnecessary duplicates.\n",
        "\n"
      ],
      "metadata": {
        "id": "TMV7CVHSBcKh"
      }
    },
    {
      "cell_type": "markdown",
      "source": [
        "# 6. What is a string in Python, and how is it different from a list?\n",
        "->\n",
        "\n",
        "A string in Python is a sequence of characters used to represent textual data. It is enclosed in either single quotes (') or double quotes (\"). Strings are typically used to store and manipulate text-based information, such as words, sentences, or any other combination of characters.\n",
        "\n",
        "For example:\n"
      ],
      "metadata": {
        "id": "W5pxfdhhCYU8"
      }
    },
    {
      "cell_type": "code",
      "source": [
        "my_string = \"Hello, World!\"\n"
      ],
      "metadata": {
        "id": "ESY6RSvqBTzv"
      },
      "execution_count": 17,
      "outputs": []
    },
    {
      "cell_type": "markdown",
      "source": [
        "On the other hand, a list in Python is an ordered collection of elements, which can be of any data type, including strings, integers, or even other lists. Lists are mutable, meaning you can modify their contents after creation, by adding, removing, or changing elements.\n",
        "\n",
        "For example:"
      ],
      "metadata": {
        "id": "eXAVHvaRCiiT"
      }
    },
    {
      "cell_type": "code",
      "source": [
        "my_list = ['h', 'e', 'l', 'l', 'o']\n"
      ],
      "metadata": {
        "id": "wzqjlsFjCh1A"
      },
      "execution_count": 18,
      "outputs": []
    },
    {
      "cell_type": "markdown",
      "source": [
        "# Key Differences:\n",
        " * Data Type: A string is a sequence of characters, while a list can contain a collection of various data types such as integers, floats, strings, or even other lists.\n",
        "\n",
        " * Mutability: Strings are immutable, meaning their contents cannot be changed after creation. Once a string is created, you cannot alter its characters. In contrast, lists are mutable, meaning their elements can be changed, added, or removed.\n",
        "\n",
        " * Syntax: A string is enclosed in single (') or double (\") quotes, whereas a list is enclosed in square brackets ([]).\n",
        "\n",
        " * Usage: Strings are primarily used for working with text, while lists are used when you need a collection of items that may vary in type and can be modified.\n",
        "\n",
        "In summary, strings are immutable sequences of characters used for text, while lists are mutable collections that can hold multiple types of data and can be modified after creation.\n",
        "\n"
      ],
      "metadata": {
        "id": "OPG4dh4MCqI0"
      }
    },
    {
      "cell_type": "markdown",
      "source": [
        "# 7. How do tuples ensure data integrity in Python?\n",
        "->\n",
        "\n",
        "How do tuples ensure data integrity in Python?\n",
        "\n",
        "In Python, a tuple is an immutable sequence of elements. Once a tuple is created, its contents cannot be modified, which makes it an important tool for ensuring data integrity. The immutability of tuples plays a key role in protecting data from accidental or unauthorized changes during program execution.\n",
        "\n",
        "# Key Ways Tuples Ensure Data Integrity:\n",
        " 1. Immutability:\n",
        "The primary way tuples ensure data integrity is through their immutability. This means that once a tuple is created, its elements cannot be modified, added, or removed. If you try to change any element of a tuple, Python will raise an error. This prevents accidental modifications, ensuring that the data within the tuple remains constant and reliable throughout the program.\n",
        "\n",
        "Example:\n"
      ],
      "metadata": {
        "id": "wv371MllDCrV"
      }
    },
    {
      "cell_type": "code",
      "source": [
        "my_tuple = (1, 2, 3)\n"
      ],
      "metadata": {
        "id": "P_grCb-hCnyO"
      },
      "execution_count": 19,
      "outputs": []
    },
    {
      "cell_type": "markdown",
      "source": [
        "2. Protection from Accidental Changes:\n",
        "\n",
        "Since tuples are immutable, they are often used to represent fixed collections of data that should not be altered, such as constant values or configuration settings. This is especially useful in cases where data integrity is critical, and you want to avoid accidental or unintentional changes to the data during the execution of the program.\n",
        "\n",
        "3. Use as Dictionary Keys:\n",
        "\n",
        "Tuples can be used as keys in dictionaries (unlike lists), which require the key to be immutable. This ensures that the key remains consistent throughout the lifetime of the dictionary and prevents any accidental changes to the key that could disrupt the integrity of the dictionary’s data.\n",
        "\n",
        "4. Data Integrity in Multithreading:\n",
        "\n",
        "Tuples provide data integrity in situations where multiple threads or processes might be accessing the same data. Since tuples are immutable, their data cannot be changed by one thread while another thread is accessing it, thus preventing data corruption or inconsistencies in a multithreaded environment."
      ],
      "metadata": {
        "id": "X97uvGrGDdxV"
      }
    },
    {
      "cell_type": "markdown",
      "source": [
        "# 8. What is a hash table, and how does it relate to dictionaries in Python?\n",
        "->\n",
        "\n",
        "A hash table is a data structure that implements an associative array abstract data type, which can store key-value pairs. It allows for fast access to values based on their associated keys by using a process called hashing. Hashing involves converting a key into an integer index through a hash function, which is then used to access the value stored in the table.\n",
        "\n",
        "# How a Hash Table Works:\n",
        "1. Hashing the Key: A hash function takes the key and returns a unique index (called the hash code). This index determines where the value associated with the key is stored in memory.\n",
        "\n",
        "2. Storing Key-Value Pairs: The hash table uses the hash code to determine where to store the key-value pair in an array. If two keys result in the same hash code (called a collision), the hash table typically uses methods like chaining or open addressing to handle this.\n",
        "\n",
        "3. Fast Lookups: Because the hash function provides direct access to the location of a value, the average time complexity for lookups, insertions, and deletions in a hash table is O(1), making it very efficient for large datasets.\n",
        "\n",
        "# Hash Tables and Dictionaries in Python:\n",
        "In Python, dictionaries are implemented using hash tables. A dictionary is a collection of key-value pairs, where each key is hashed to determine its location in the underlying hash table. This allows for efficient access to values based on their keys.\n",
        "\n",
        "When you use a dictionary in Python, you are essentially using a hash table under the hood. The dictionary’s keys are hashed using Python’s built-in hash function, and the corresponding values are stored at the computed index.\n",
        "\n",
        "#Key Points of Hash Tables and Python Dictionaries:\n",
        " * Fast Access: Since dictionaries are implemented using hash tables, they provide very fast lookups, insertions, and deletions (on average O(1) time complexity).\n",
        "\n",
        " * Unique Keys: In Python dictionaries, keys must be immutable and unique. This is because they need to be hashable, meaning their hash value must remain constant throughout the dictionary’s life.\n",
        "\n",
        " * Collisions: If two different keys produce the same hash code (a collision), Python handles it internally using methods like open addressing or linked lists.\n",
        "\n",
        "#Example:"
      ],
      "metadata": {
        "id": "6spulh4kD-r_"
      }
    },
    {
      "cell_type": "code",
      "source": [
        "\n",
        "my_dict = {\"name\": \"Lukesh\", \"age\": 22, \"city\": \"Jalgaon\"}\n",
        "print(my_dict[\"name\"])"
      ],
      "metadata": {
        "colab": {
          "base_uri": "https://localhost:8080/"
        },
        "id": "X1aaIhycDXcW",
        "outputId": "806a2214-1244-460f-8653-81a8d84050df"
      },
      "execution_count": 20,
      "outputs": [
        {
          "output_type": "stream",
          "name": "stdout",
          "text": [
            "Lukesh\n"
          ]
        }
      ]
    },
    {
      "cell_type": "markdown",
      "source": [
        "Yes, lists in Python can contain elements of different data types. One of the key features of Python lists is that they are heterogeneous, meaning that they can store items of various data types in a single list. This includes integers, strings, floats, other lists, dictionaries, and even custom objects.\n",
        "\n",
        "#Example:"
      ],
      "metadata": {
        "id": "TEPqrUXtE8n4"
      }
    },
    {
      "cell_type": "code",
      "source": [
        "my_list = [1, \"Hello\", 3.14, True, [1, 2, 3], {\"key\": \"value\"}]\n",
        "print(my_list)\n"
      ],
      "metadata": {
        "colab": {
          "base_uri": "https://localhost:8080/"
        },
        "id": "kHfFzEPhE02M",
        "outputId": "aa91c699-3552-464c-e1f2-ca503ae910bf"
      },
      "execution_count": 21,
      "outputs": [
        {
          "output_type": "stream",
          "name": "stdout",
          "text": [
            "[1, 'Hello', 3.14, True, [1, 2, 3], {'key': 'value'}]\n"
          ]
        }
      ]
    },
    {
      "cell_type": "markdown",
      "source": [
        "In Python, strings are immutable, meaning that once a string is created, its contents cannot be modified. This immutability is a key characteristic of strings in Python, and it has several important benefits and design reasons.\n",
        "\n",
        "# Reasons Why Strings Are Immutable:\n",
        "1. Efficiency:\n",
        "Immutability allows Python to optimize the use of memory. Since strings cannot be modified, Python can reuse the memory allocated for a string. Instead of creating new copies of the string every time a modification is made, Python can simply reference the existing string. This helps in reducing memory consumption and improving performance, especially when handling large numbers of strings.\n",
        "\n",
        "2. Security and Data Integrity:\n",
        "Immutability ensures that strings cannot be accidentally changed, which helps preserve the integrity of data. When working with strings, especially in cases where they represent sensitive or important data (e.g., passwords, file paths), it is important that their values remain constant throughout the program.\n",
        "\n",
        "3. Hashing and Usage as Dictionary Keys:\n",
        "Immutability makes strings hashable, meaning they can be used as keys in dictionaries. A string’s hash value is derived from its contents, and since strings cannot be changed, their hash value remains consistent throughout the program’s execution. If strings were mutable, their hash value could change, leading to unpredictable behavior in data structures like dictionaries.\n",
        "\n",
        "4. Simplified Behavior:\n",
        "Immutability simplifies programming. For example, since strings are immutable, you don’t need to worry about unintended side effects when passing strings to functions or modifying them. This makes code more predictable and easier to debug.\n",
        "\n",
        "5. Implementation of String Concatenation:\n",
        "Python handles string concatenation by creating new strings every time two or more strings are combined. Since strings are immutable, this ensures that the original strings are not changed and that the new string is a separate object. This design choice simplifies memory management and avoids issues related to modifying strings while they are being used in other parts of the program.\n",
        "\n",
        "#Example of String Immutability:"
      ],
      "metadata": {
        "id": "TPlX0pACFbHy"
      }
    },
    {
      "cell_type": "code",
      "source": [
        "s = \"hello\"\n",
        "s = \"H\" + s[1:]\n",
        "print(s)\n"
      ],
      "metadata": {
        "colab": {
          "base_uri": "https://localhost:8080/"
        },
        "id": "2pfXx13HFAde",
        "outputId": "cb6f3f9d-68e0-435d-a4ab-5f7134446932"
      },
      "execution_count": 22,
      "outputs": [
        {
          "output_type": "stream",
          "name": "stdout",
          "text": [
            "Hello\n"
          ]
        }
      ]
    },
    {
      "cell_type": "markdown",
      "source": [
        "# 8. What advantages do dictionaries offer over lists for certain tasks?\n",
        "->\n",
        "\n",
        "Dictionaries and lists are both powerful data structures in Python, but they serve different purposes and offer distinct advantages depending on the task at hand. A dictionary in Python is an unordered collection of key-value pairs, while a list is an ordered collection of items. Here are the key advantages that dictionaries offer over lists for certain tasks:\n",
        "\n",
        "1. Fast Lookups by Key\n",
        "\n",
        "Dictionaries provide fast access to values using keys. The lookup time for dictionaries is, on average, O(1) (constant time), meaning it takes the same amount of time to retrieve a value regardless of the size of the dictionary. In contrast, lists require O(n) time for searching, where n is the number of elements in the list. This makes dictionaries much more efficient when you need to find a value based on a unique identifier (the key).\n",
        "\n",
        "#Example:"
      ],
      "metadata": {
        "id": "RnM70kyzGKzB"
      }
    },
    {
      "cell_type": "code",
      "source": [
        "\n",
        "my_dict = {'name': 'Lukesh', 'age': 22}\n",
        "print(my_dict['name'])\n"
      ],
      "metadata": {
        "colab": {
          "base_uri": "https://localhost:8080/"
        },
        "id": "v1e4PdmuF0vV",
        "outputId": "2ff14235-aff3-4903-c3cd-d2623f91fc28"
      },
      "execution_count": 23,
      "outputs": [
        {
          "output_type": "stream",
          "name": "stdout",
          "text": [
            "Lukesh\n"
          ]
        }
      ]
    },
    {
      "cell_type": "markdown",
      "source": [
        "2. Uniqueness of Keys\n",
        "\n",
        "Dictionaries enforce the uniqueness of keys. If you try to insert a duplicate key, it will simply overwrite the existing key-value pair, which prevents accidental duplication of data. Lists, however, allow duplicates and store all items in the order they are added.\n",
        "\n",
        "#Example:"
      ],
      "metadata": {
        "id": "w9f5zsBVHAny"
      }
    },
    {
      "cell_type": "code",
      "source": [
        "\n",
        "my_dict = {'a': 1, 'b': 2}\n",
        "my_dict['a'] = 3\n",
        "print(my_dict)\n"
      ],
      "metadata": {
        "colab": {
          "base_uri": "https://localhost:8080/"
        },
        "id": "I8Rpf164HLdb",
        "outputId": "e5206c56-ce7c-47ab-cb46-17de8e43ecc0"
      },
      "execution_count": 24,
      "outputs": [
        {
          "output_type": "stream",
          "name": "stdout",
          "text": [
            "{'a': 3, 'b': 2}\n"
          ]
        }
      ]
    },
    {
      "cell_type": "markdown",
      "source": [
        "Tuples and lists in Python are both used to store collections of items, but tuples are immutable (i.e., their elements cannot be modified after creation), while lists are mutable. A tuple is generally preferable over a list in scenarios where immutability is important, and the data should remain unchanged. Below is a scenario where a tuple would be the better choice:\n",
        "\n",
        "# Scenario: Storing Geographic Coordinates\n",
        "Suppose you are developing a program to store and process geographic coordinates (latitude and longitude) for various locations. Geographic coordinates are often used in mapping, navigation, or GPS applications, where the values for a location should remain constant and not be altered. In this case, using a tuple to store the coordinates is preferable because:\n",
        "\n",
        "1. Immutability: Since the coordinates should not change once they are set, using a tuple ensures that no one can accidentally modify the values. This preserves the integrity of the data.\n",
        "\n",
        "2. Data Integrity: Storing the coordinates as a tuple guarantees that the location data remains fixed, which is especially important when working with critical systems like navigation or location-based services.\n",
        "\n",
        "3. Performance: Tuples are generally more memory-efficient and faster than lists, especially when dealing with fixed data that doesn’t need to be modified.\n",
        "\n",
        "# Example:"
      ],
      "metadata": {
        "id": "TStEqqoTHsyy"
      }
    },
    {
      "cell_type": "code",
      "source": [
        "\n",
        "coordinates = (40.7128, 74.0060)\n",
        "latitude = coordinates[0]\n",
        "longitude = coordinates[1]\n",
        "print(f\"Latitude: {latitude}, Longitude: {longitude}\")\n"
      ],
      "metadata": {
        "colab": {
          "base_uri": "https://localhost:8080/"
        },
        "id": "j8wFpJ8IHsNj",
        "outputId": "37c93b82-2eb0-46e1-8978-d462901ac33c"
      },
      "execution_count": 25,
      "outputs": [
        {
          "output_type": "stream",
          "name": "stdout",
          "text": [
            "Latitude: 40.7128, Longitude: 74.006\n"
          ]
        }
      ]
    },
    {
      "cell_type": "markdown",
      "source": [
        "# 13. How do sets handle duplicate values in Python?\n",
        "->\n",
        "\n",
        "In Python, a set is an unordered collection of unique elements. One of the key features of a set is that it automatically removes duplicate values. If you try to add duplicate elements to a set, only one instance of each element is stored.\n",
        "\n",
        "# How Sets Handle Duplicates:\n",
        "1. When you attempt to add an element to a set, Python checks whether the element already exists in the set.\n",
        "\n",
        "2. If the element is already present, it is not added again. This ensures that every element in a set is unique.\n",
        "\n",
        "3. Sets do not allow duplicates, meaning that if you try to add the same value multiple times, it will appear only once.\n",
        "\n",
        "#Example:\n"
      ],
      "metadata": {
        "id": "29NziLFLN9aE"
      }
    },
    {
      "cell_type": "code",
      "source": [
        "my_set = {1, 2, 2, 3, 4, 4}\n",
        "print(my_set)\n"
      ],
      "metadata": {
        "colab": {
          "base_uri": "https://localhost:8080/"
        },
        "id": "KS8BJaixHOaY",
        "outputId": "69e05e62-137b-4b7d-f0b1-1416794924f9"
      },
      "execution_count": 26,
      "outputs": [
        {
          "output_type": "stream",
          "name": "stdout",
          "text": [
            "{1, 2, 3, 4}\n"
          ]
        }
      ]
    },
    {
      "cell_type": "markdown",
      "source": [
        "# 14. How does the “in” keyword work differently for lists and dictionaries?\n",
        "->\n",
        "\n",
        "In Python, the in keyword is used to check for membership, i.e., to check if an element exists in a collection. However, the behavior of the in keyword differs when used with lists and dictionaries due to the way each data structure is organized.\n",
        "\n",
        "# Using in with a List:\n",
        "\n",
        "When used with a list, the in keyword checks whether a specific value exists in the list. It iterates through the list and returns True if the value is found; otherwise, it returns False.\n",
        "\n",
        "#Example:"
      ],
      "metadata": {
        "id": "oTAlgnggOqje"
      }
    },
    {
      "cell_type": "code",
      "source": [
        "my_list = [1, 2, 3, 4]\n",
        "print(3 in my_list)\n",
        "print(5 in my_list)"
      ],
      "metadata": {
        "colab": {
          "base_uri": "https://localhost:8080/"
        },
        "id": "vQdN9gSCOhc9",
        "outputId": "6312c192-bbe3-4123-bd39-97d6ed13f8fd"
      },
      "execution_count": 27,
      "outputs": [
        {
          "output_type": "stream",
          "name": "stdout",
          "text": [
            "True\n",
            "False\n"
          ]
        }
      ]
    },
    {
      "cell_type": "markdown",
      "source": [
        "# Summary of Differences:\n",
        " * For Lists: The in keyword checks if the value exists in the list.\n",
        "\n",
        " * For Dictionaries: The in keyword checks if the key exists in the dictionary. If you want to check if a value exists, you must use the values() method."
      ],
      "metadata": {
        "id": "eyCy0ihlPTgM"
      }
    },
    {
      "cell_type": "markdown",
      "source": [
        "# 15. Can you modify the elements of a tuple? Explain why or why not?\n",
        "->\n",
        "\n",
        "In Python, tuples are immutable. This means that once a tuple is created, its elements cannot be modified, added, or removed. This immutability is one of the key characteristics of tuples, and it distinguishes them from lists, which are mutable.\n",
        "\n",
        "#Why Can’t You Modify Tuple Elements?\n",
        "The immutability of tuples is intentional and provides several benefits:\n",
        "\n",
        "1. Data Integrity: By ensuring that a tuple cannot be modified after creation, you can rely on its contents to remain unchanged throughout the program. This is useful when you need to store constant data, such as configuration settings, fixed coordinates, or constant values, where accidental modification would cause errors.\n",
        "\n",
        "2. Efficiency: Because tuples are immutable, Python can optimize their memory usage and performance. It can safely share the memory location of a tuple among different parts of the program, reducing memory overhead and speeding up access to the tuple.\n",
        "\n",
        "3. Hashability: Tuples are hashable, meaning they can be used as keys in dictionaries or elements of sets. For a data structure to be hashable, its contents must not change during the program's execution, which is guaranteed by the immutability of tuples.\n",
        "\n",
        "#Example:"
      ],
      "metadata": {
        "id": "7LDwfobLPhc8"
      }
    },
    {
      "cell_type": "code",
      "source": [
        "\n",
        "my_tuple = (1, 2, 3)\n",
        "my_tuple = (10,) + my_tuple[1:]\n",
        "print(my_tuple)\n"
      ],
      "metadata": {
        "colab": {
          "base_uri": "https://localhost:8080/"
        },
        "id": "Q60K_cBDPMWI",
        "outputId": "1e55034e-535f-40b1-907f-e57e9023d051"
      },
      "execution_count": 28,
      "outputs": [
        {
          "output_type": "stream",
          "name": "stdout",
          "text": [
            "(10, 2, 3)\n"
          ]
        }
      ]
    },
    {
      "cell_type": "markdown",
      "source": [
        "A nested dictionary is a dictionary where one or more of its values are themselves dictionaries. In other words, a dictionary can contain other dictionaries as values, creating a multi-level data structure. This allows for more complex and organized representations of data, especially when dealing with hierarchical or related data.\n",
        "\n",
        "#Structure of a Nested Dictionary:\n",
        "A nested dictionary is created by using a dictionary as a value for a key in another dictionary. The key-value pairs in the nested dictionary can themselves contain more key-value pairs.\n",
        "\n",
        "#Example of a Nested Dictionary:"
      ],
      "metadata": {
        "id": "NmTipdIwQN61"
      }
    },
    {
      "cell_type": "code",
      "source": [
        "students = {\n",
        "    \"student1\": {\n",
        "        \"name\": \"Lukesh\",\n",
        "        \"age\": 22,\n",
        "        \"courses\": [\"Math\", \"English\", \"Physics\"]\n",
        "    },\n",
        "    \"student2\": {\n",
        "        \"name\": \"kartik\",\n",
        "        \"age\": 25,\n",
        "        \"courses\": [\"History\", \"Math\", \"Computer Science\"]\n",
        "    }\n",
        "}\n",
        "print(students[\"student1\"][\"name\"])\n",
        "print(students[\"student2\"][\"courses\"])\n"
      ],
      "metadata": {
        "colab": {
          "base_uri": "https://localhost:8080/"
        },
        "id": "2Hv0MPCHQBI5",
        "outputId": "e352e659-e435-4921-d4eb-12b9115a110c"
      },
      "execution_count": 30,
      "outputs": [
        {
          "output_type": "stream",
          "name": "stdout",
          "text": [
            "Lukesh\n",
            "['History', 'Math', 'Computer Science']\n"
          ]
        }
      ]
    },
    {
      "cell_type": "markdown",
      "source": [
        "# 17. Describe the time complexity of accessing elements in a dictionary?\n",
        "->\n",
        "\n",
        "In Python, dictionaries are implemented using hash tables, which allows for efficient access to elements. The time complexity for accessing elements in a dictionary depends on whether there are hash collisions or not, but in most cases, the time complexity is constant time, denoted as O(1).\n",
        "\n",
        "# How Dictionaries Work:\n",
        "1. Hashing: When you access a dictionary element using its key, Python computes a hash value for the key. This hash value is then used to directly access the location in memory where the corresponding value is stored.\n",
        "\n",
        "2. Direct Lookup: Thanks to this hash-based structure, looking up a value by its key is very efficient because the key’s hash directly maps to its index in the hash table.\n",
        "\n",
        "#Time Complexity:\n",
        "* Average Case: O(1) (Constant time)\n",
        "\n",
        " * In the average case, dictionary lookups happen in constant time. The time taken to access the value associated with a given key does not depend on the number of elements in the dictionary. It remains the same regardless of the dictionary's size because the hash code provides a direct reference to the value.\n",
        "\n",
        "* Worst Case: O(n) (Linear time)\n",
        "\n",
        " * In rare situations, such as when many keys hash to the same index (called a hash collision), the dictionary may need to search through a list or chain of keys that share the same hash. In this case, the time complexity could degrade to O(n), where n is the number of elements in the dictionary. However, Python uses efficient collision resolution techniques (like open addressing or chaining) to minimize the likelihood of this occurring.\n",
        "\n",
        "#Example:"
      ],
      "metadata": {
        "id": "21BJ62KURCEN"
      }
    },
    {
      "cell_type": "code",
      "source": [
        "my_dict = {\"apple\": 5, \"banana\": 3, \"orange\": 7}\n",
        "print(my_dict[\"banana\"])\n"
      ],
      "metadata": {
        "colab": {
          "base_uri": "https://localhost:8080/"
        },
        "id": "-RvHdTFdQgub",
        "outputId": "80a34617-86b3-446f-bc5e-d42be7ae517d"
      },
      "execution_count": 31,
      "outputs": [
        {
          "output_type": "stream",
          "name": "stdout",
          "text": [
            "3\n"
          ]
        }
      ]
    },
    {
      "cell_type": "markdown",
      "source": [
        "# 18. In what situations are lists preferred over dictionaries?\n",
        "->\n",
        "\n",
        "In Python, both lists and dictionaries are versatile data structures, but they are used for different purposes. While dictionaries are ideal for situations where fast lookups by key are required, lists are often preferred in situations where the following characteristics are needed:\n",
        "\n",
        "1. When the order of elements matters:\n",
        " * Lists maintain the order of elements, meaning that the items are stored in the order they are added.\n",
        "\n",
        " * If the sequence of data is important (e.g., if you need to preserve the order in which items were inserted or if you are working with ordered collections like a timeline or a list of steps), a list is the best choice.\n",
        "\n",
        "# Example:\n"
      ],
      "metadata": {
        "id": "ijxvtIMiScvs"
      }
    },
    {
      "cell_type": "code",
      "source": [
        "\n",
        "steps = [\"Start\", \"Prepare ingredients\", \"Cook\", \"Serve\"]\n",
        "print(steps[2])\n"
      ],
      "metadata": {
        "colab": {
          "base_uri": "https://localhost:8080/"
        },
        "id": "5NjZ7trpSIp0",
        "outputId": "67e0bd96-306f-46e9-a85c-1e1e483a23ce"
      },
      "execution_count": 32,
      "outputs": [
        {
          "output_type": "stream",
          "name": "stdout",
          "text": [
            "Cook\n"
          ]
        }
      ]
    },
    {
      "cell_type": "markdown",
      "source": [
        "2. When you need to store multiple elements of the same type:\n",
        " * Lists are typically used when the data collection involves multiple elements of the same type (e.g., a list of numbers, strings, or objects).\n",
        "\n",
        " * While dictionaries can also store multiple values, they are designed for key-value pairs, and lists are simpler when you just need an ordered collection of items.\n",
        "\n",
        "#Example:\n"
      ],
      "metadata": {
        "id": "EXDtkORfTS2T"
      }
    },
    {
      "cell_type": "code",
      "source": [
        "\n",
        "numbers = [1, 2, 3, 4, 5]\n",
        "total = sum(numbers)\n",
        "print(total)\n"
      ],
      "metadata": {
        "colab": {
          "base_uri": "https://localhost:8080/"
        },
        "id": "H5bpvyAOTGaG",
        "outputId": "5d5dbbbb-da98-49a1-fa75-f7d60763dfc8"
      },
      "execution_count": 33,
      "outputs": [
        {
          "output_type": "stream",
          "name": "stdout",
          "text": [
            "15\n"
          ]
        }
      ]
    },
    {
      "cell_type": "markdown",
      "source": [
        "3. When you need to store a sequence of items that may change in size:\n",
        " * Lists are dynamic in size, meaning you can easily append, remove, or modify elements.\n",
        "\n",
        " * If you don’t know the exact number of elements in advance, or if the size of the collection will vary frequently, lists provide flexibility for adding or removing items.\n",
        "\n",
        "#Example:"
      ],
      "metadata": {
        "id": "lYovgljyTi5T"
      }
    },
    {
      "cell_type": "code",
      "source": [
        "\n",
        "numbers = [1, 2, 3]\n",
        "numbers.append(4)\n",
        "print(numbers)\n"
      ],
      "metadata": {
        "colab": {
          "base_uri": "https://localhost:8080/"
        },
        "id": "7qbTd3RLTekD",
        "outputId": "116d821c-7b4d-420d-b01b-d73536e7cef6"
      },
      "execution_count": 34,
      "outputs": [
        {
          "output_type": "stream",
          "name": "stdout",
          "text": [
            "[1, 2, 3, 4]\n"
          ]
        }
      ]
    },
    {
      "cell_type": "markdown",
      "source": [
        "4. When you need to perform operations on all elements in sequence:\n",
        " * Lists are ideal when you need to iterate over all elements in a sequence to apply an operation, such as filtering, sorting, or transforming the elements.\n",
        "\n",
        " * Iterating through a list is straightforward, and you can use loops or list comprehensions to perform operations on the entire collection.\n",
        "\n",
        "* Example:"
      ],
      "metadata": {
        "id": "u4O--Q6YT2KV"
      }
    },
    {
      "cell_type": "code",
      "source": [
        "\n",
        "numbers = [1, 2, 3, 4]\n",
        "doubled = [x * 2 for x in numbers]\n",
        "print(doubled)\n",
        "\n"
      ],
      "metadata": {
        "colab": {
          "base_uri": "https://localhost:8080/"
        },
        "id": "3-aZseudTuoP",
        "outputId": "16c56242-ce6a-4f20-fd52-7c51b491f4e0"
      },
      "execution_count": 35,
      "outputs": [
        {
          "output_type": "stream",
          "name": "stdout",
          "text": [
            "[2, 4, 6, 8]\n"
          ]
        }
      ]
    },
    {
      "cell_type": "markdown",
      "source": [
        "# 19. Why are dictionaries considered unordered, and how does that affect data retrieval?\n",
        "->\n",
        "\n",
        "In Python, dictionaries are considered unordered collections. This means that the elements in a dictionary are not stored in any particular order. The insertion order of the key-value pairs is not guaranteed to be the same as the order in which they were added to the dictionary. However, starting from Python 3.7, dictionaries preserve insertion order, which means that the order in which items are added is maintained, but they are still fundamentally unordered in terms of how they are internally managed.\n",
        "\n",
        "#Why Are Dictionaries Considered Unordered?\n",
        " * Internal Representation: Internally, dictionaries are implemented as hash tables, which allow for efficient key-based lookups. The hash table stores keys based on their hash values, not in the order they were added. This is why the order of the keys does not affect how Python retrieves the data.\n",
        "\n",
        " * Hash Function: Each key in a dictionary is hashed, and the hash value determines where the corresponding value is stored in memory. The placement of key-value pairs in memory is not sequential or based on insertion order. Instead, the hash table is designed to allow fast lookups and retrieval of values associated with keys.\n",
        "\n",
        "#How Does This Affect Data Retrieval?\n",
        "1. Efficient Key-Based Lookup: The primary advantage of a dictionary is its O(1) time complexity for lookups (average case), regardless of the order in which items are inserted. When you access a value using its key, Python uses the hash of the key to quickly locate the corresponding value, so order does not matter for data retrieval.\n",
        "\n",
        "2. Order Does Not Impact Performance: Since dictionaries are unordered, the order of the elements does not affect the retrieval time. You can access a value by its key in constant time, and the time it takes to retrieve the value does not depend on the number of elements in the dictionary.\n",
        "\n",
        "3. Iteration Order (Prior to Python 3.7): Before Python 3.7, dictionaries were completely unordered, and iterating over a dictionary could result in a seemingly random order of key-value pairs. Starting from Python 3.7, dictionaries preserve the insertion order, so if you iterate over a dictionary, the items will appear in the order they were added. However, the insertion order is not something you can rely on for performance or when accessing data; it is just a side effect of the way dictionaries are implemented in modern versions of Python.\n",
        "\n",
        "4. Accessing Data by Key: The unordered nature does not affect data retrieval by key. When accessing a dictionary, Python will always retrieve the correct value associated with the provided key, regardless of the key's position in the dictionary.\n",
        "\n",
        "# Example of Dictionary Access:\n"
      ],
      "metadata": {
        "id": "9XlLzFQ6UWts"
      }
    },
    {
      "cell_type": "code",
      "source": [
        "\n",
        "my_dict = {\"apple\": 1, \"banana\": 2, \"orange\": 3}\n",
        "\n",
        "print(my_dict[\"banana\"])\n"
      ],
      "metadata": {
        "colab": {
          "base_uri": "https://localhost:8080/"
        },
        "id": "D4ad8QLzUWQL",
        "outputId": "404312eb-ad6d-438e-b07b-7045ebbe4c01"
      },
      "execution_count": 36,
      "outputs": [
        {
          "output_type": "stream",
          "name": "stdout",
          "text": [
            "2\n"
          ]
        }
      ]
    },
    {
      "cell_type": "markdown",
      "source": [
        "# 20. Explain the difference between a list and a dictionary in terms of data retrieval?\n",
        "->\n",
        "\n",
        "Both lists and dictionaries are commonly used data structures in Python, but they differ significantly in how data is stored and retrieved. Below, we explain the key differences in terms of data retrieval.\n",
        "\n",
        "1. Data Structure and Access Method:\n",
        "List: A list is an ordered collection of elements that can be accessed using indexing. Each element in a list has a specific index starting from 0. To retrieve an element, you use its position (index) in the list.\n",
        "\n",
        "Dictionary: A dictionary is an unordered collection of key-value pairs. Instead of using an index to access an element, you use a key to retrieve the corresponding value. Each key in a dictionary must be unique.\n",
        "\n",
        "2. Time Complexity of Data Retrieval:\n",
        "List:\n",
        "\n",
        "Accessing by index: Retrieving an element from a list by its index has a time complexity of O(1) (constant time). Python directly calculates the position of the element in memory.\n",
        "\n",
        "Searching for an element by value: If you don’t know the index of the element and need to search by value, the time complexity is O(n), where n is the number of elements in the list. This is because Python may need to scan through the entire list to find the value.\n",
        "\n",
        "Dictionary:\n",
        "\n",
        "Accessing by key: Retrieving an element from a dictionary by its key has an average time complexity of O(1) (constant time). Python uses the key’s hash value to directly locate the value associated with the key in memory.\n",
        "\n",
        "Searching for a value: If you need to search for a value (without the key), the time complexity is O(n), because Python needs to check every key-value pair in the dictionary to find the corresponding value.\n",
        "\n",
        "3. Order of Elements:\n",
        "List: A list is ordered (as of Python 3.7), meaning that the order of elements is preserved. When you access a list by index, you get elements in the same sequence they were inserted.\n",
        "\n",
        "Dictionary: While dictionaries in Python 3.7+ preserve the insertion order when iterating, they are unordered with respect to how elements are stored internally. You cannot rely on the order of keys in a dictionary when retrieving data. However, data is always accessed via keys, not based on position.\n",
        "\n",
        "4. Example of Data Retrieval:\n",
        " * List (accessing by index):\n"
      ],
      "metadata": {
        "id": "8G_ySoF3YDb0"
      }
    },
    {
      "cell_type": "code",
      "source": [
        "my_list = [10, 20, 30, 40]\n",
        "print(my_list[2])\n"
      ],
      "metadata": {
        "colab": {
          "base_uri": "https://localhost:8080/"
        },
        "id": "Ei6diZPAUCI4",
        "outputId": "22f1e7ab-da9a-4f03-aa90-f313af2a546f"
      },
      "execution_count": 37,
      "outputs": [
        {
          "output_type": "stream",
          "name": "stdout",
          "text": [
            "30\n"
          ]
        }
      ]
    },
    {
      "cell_type": "markdown",
      "source": [
        " * Dictionary (accessing by key):\n"
      ],
      "metadata": {
        "id": "ZiHeP-RmYXAQ"
      }
    },
    {
      "cell_type": "code",
      "source": [
        "my_dict = {\"apple\": 1, \"banana\": 2, \"orange\": 3}\n",
        "print(my_dict[\"banana\"])"
      ],
      "metadata": {
        "colab": {
          "base_uri": "https://localhost:8080/"
        },
        "id": "aS3f5ujwYTfT",
        "outputId": "5e96e2a1-009b-4d68-d276-d6a06f90a883"
      },
      "execution_count": 38,
      "outputs": [
        {
          "output_type": "stream",
          "name": "stdout",
          "text": [
            "2\n"
          ]
        }
      ]
    },
    {
      "cell_type": "markdown",
      "source": [
        "5. Handling of Duplicates:\n",
        "* List: Lists allow duplicate values. You can store multiple occurrences of the same element, and each element can be accessed by its index.\n",
        "\n",
        "* Dictionary: Dictionaries do not allow duplicate keys. If you try to insert a duplicate key, it will simply overwrite the previous value associated with that key. However, you can have multiple elements with the same value, as long as the keys are unique."
      ],
      "metadata": {
        "id": "JqIhuLcFYnkT"
      }
    },
    {
      "cell_type": "markdown",
      "source": [
        "# Practical Questions\n"
      ],
      "metadata": {
        "id": "3sT8JccFaKLh"
      }
    },
    {
      "cell_type": "markdown",
      "source": [
        "# 1.  Write a code to create a string with your name and print it?\n",
        "\n"
      ],
      "metadata": {
        "id": "2kQG-Ui8aPNP"
      }
    },
    {
      "cell_type": "code",
      "source": [
        "name = \"Lukesh\"\n",
        "print(name)\n"
      ],
      "metadata": {
        "colab": {
          "base_uri": "https://localhost:8080/"
        },
        "id": "G0tRjFRvYiZ7",
        "outputId": "51d6492e-61e0-47d9-c2fa-11fd4328cff3"
      },
      "execution_count": 40,
      "outputs": [
        {
          "output_type": "stream",
          "name": "stdout",
          "text": [
            "Lukesh\n"
          ]
        }
      ]
    },
    {
      "cell_type": "markdown",
      "source": [
        "# 2. Write a code to find the length of the string \"Hello World\"?\n"
      ],
      "metadata": {
        "id": "TJJYNrJYayim"
      }
    },
    {
      "cell_type": "code",
      "source": [
        "string = \"Hello World\"\n",
        "length = len(string)\n",
        "print(length)\n"
      ],
      "metadata": {
        "colab": {
          "base_uri": "https://localhost:8080/"
        },
        "id": "lEjkUgRSaTr9",
        "outputId": "73a89b0a-7d99-457b-e270-ff999465c2bf"
      },
      "execution_count": 41,
      "outputs": [
        {
          "output_type": "stream",
          "name": "stdout",
          "text": [
            "11\n"
          ]
        }
      ]
    },
    {
      "cell_type": "markdown",
      "source": [
        "#3. Write a code to slice the first 3 characters from the string \"Python Programming\"?\n",
        "\n"
      ],
      "metadata": {
        "id": "Yk1Z47kbbGa-"
      }
    },
    {
      "cell_type": "code",
      "source": [
        "string = \"Python Programming\"\n",
        "sliced = string[:3]\n",
        "print(sliced)\n"
      ],
      "metadata": {
        "colab": {
          "base_uri": "https://localhost:8080/"
        },
        "id": "sYLPth5Sa9bp",
        "outputId": "3752271d-463d-45a7-ae49-51a434fd244b"
      },
      "execution_count": 42,
      "outputs": [
        {
          "output_type": "stream",
          "name": "stdout",
          "text": [
            "Pyt\n"
          ]
        }
      ]
    },
    {
      "cell_type": "markdown",
      "source": [
        "# 4. Write a code to convert the string \"hello\" to uppercase?\n"
      ],
      "metadata": {
        "id": "20RU5vhPbqUn"
      }
    },
    {
      "cell_type": "code",
      "source": [
        "string = \"hello\"\n",
        "uppercase_string = string.upper()\n",
        "print(uppercase_string)\n"
      ],
      "metadata": {
        "colab": {
          "base_uri": "https://localhost:8080/"
        },
        "id": "viZhkVj4behi",
        "outputId": "653c2f33-e2bc-46eb-d924-2505cd104592"
      },
      "execution_count": 43,
      "outputs": [
        {
          "output_type": "stream",
          "name": "stdout",
          "text": [
            "HELLO\n"
          ]
        }
      ]
    },
    {
      "cell_type": "markdown",
      "source": [
        "# 5. Write a code to replace the word \"apple\" with \"orange\" in the string \"I like apple\" ?\n"
      ],
      "metadata": {
        "id": "X8j9P68Hb9aP"
      }
    },
    {
      "cell_type": "code",
      "source": [
        "string = \"I like apple\"\n",
        "new_string = string.replace(\"apple\", \"orange\")\n",
        "print(new_string)\n"
      ],
      "metadata": {
        "colab": {
          "base_uri": "https://localhost:8080/"
        },
        "id": "hj1r3VzHb4I8",
        "outputId": "78a014ee-7728-4ca8-f465-5128a30cba66"
      },
      "execution_count": 44,
      "outputs": [
        {
          "output_type": "stream",
          "name": "stdout",
          "text": [
            "I like orange\n"
          ]
        }
      ]
    },
    {
      "cell_type": "markdown",
      "source": [
        "# 6. write a code to create a list with numbers 1 to 5 and print it?\n"
      ],
      "metadata": {
        "id": "ok1IB-8dcR-t"
      }
    },
    {
      "cell_type": "code",
      "source": [
        "numbers = [1, 2, 3, 4, 5]\n",
        "print(numbers)\n"
      ],
      "metadata": {
        "colab": {
          "base_uri": "https://localhost:8080/"
        },
        "id": "ljpe9T3NcVSJ",
        "outputId": "18861221-15d9-448f-8e3b-ff5820fedd5b"
      },
      "execution_count": 45,
      "outputs": [
        {
          "output_type": "stream",
          "name": "stdout",
          "text": [
            "[1, 2, 3, 4, 5]\n"
          ]
        }
      ]
    },
    {
      "cell_type": "markdown",
      "source": [
        "# 7. Write a code to append the number 10 to the list [1, 2, 3, 4]?\n"
      ],
      "metadata": {
        "id": "if_ig55dcbHG"
      }
    },
    {
      "cell_type": "code",
      "source": [
        "numbers = [1, 2, 3, 4]\n",
        "numbers.append(10)\n",
        "print(numbers)\n"
      ],
      "metadata": {
        "colab": {
          "base_uri": "https://localhost:8080/"
        },
        "id": "b_f2b9SocaM2",
        "outputId": "9728f397-9b1c-43ab-9f07-6b8e26c8139a"
      },
      "execution_count": 46,
      "outputs": [
        {
          "output_type": "stream",
          "name": "stdout",
          "text": [
            "[1, 2, 3, 4, 10]\n"
          ]
        }
      ]
    },
    {
      "cell_type": "markdown",
      "source": [
        "# 8. Write a code to remove the number 3 from the list [1, 2, 3, 4, 5]\n"
      ],
      "metadata": {
        "id": "qiGU3OXEeHn8"
      }
    },
    {
      "cell_type": "code",
      "source": [
        "numbers = [1, 2, 3, 4, 5]\n",
        "numbers.remove(3)\n",
        "print(numbers)\n"
      ],
      "metadata": {
        "colab": {
          "base_uri": "https://localhost:8080/"
        },
        "id": "1kZ53OUmeGS6",
        "outputId": "a67962e0-80ce-490d-d1d1-caa88688af8d"
      },
      "execution_count": 47,
      "outputs": [
        {
          "output_type": "stream",
          "name": "stdout",
          "text": [
            "[1, 2, 4, 5]\n"
          ]
        }
      ]
    },
    {
      "cell_type": "code",
      "source": [],
      "metadata": {
        "id": "tB3bk1HreRdG"
      },
      "execution_count": null,
      "outputs": []
    },
    {
      "cell_type": "markdown",
      "source": [
        "# 9. Write a code to access the second element in the list ['a', 'b', 'c', 'd']\n"
      ],
      "metadata": {
        "id": "T4xflgBWempN"
      }
    },
    {
      "cell_type": "code",
      "source": [
        "letters = ['a', 'b', 'c', 'd']\n",
        "second = letters[1]\n",
        "print(second)\n"
      ],
      "metadata": {
        "colab": {
          "base_uri": "https://localhost:8080/"
        },
        "id": "LNUpafbKetGR",
        "outputId": "cdecba3d-41a4-42fb-beca-ceff91be2ac7"
      },
      "execution_count": 48,
      "outputs": [
        {
          "output_type": "stream",
          "name": "stdout",
          "text": [
            "b\n"
          ]
        }
      ]
    },
    {
      "cell_type": "markdown",
      "source": [
        "# 10. Write a code to reverse the list [10, 20, 30, 40, 50]"
      ],
      "metadata": {
        "id": "WUzwff7jextM"
      }
    },
    {
      "cell_type": "code",
      "source": [
        "numbers = [10, 20, 30, 40, 50]\n",
        "numbers.reverse()\n",
        "print(numbers)\n"
      ],
      "metadata": {
        "colab": {
          "base_uri": "https://localhost:8080/"
        },
        "id": "LXfYc-FYew37",
        "outputId": "f054089c-ecbd-4367-8224-e10ea4e53a12"
      },
      "execution_count": 49,
      "outputs": [
        {
          "output_type": "stream",
          "name": "stdout",
          "text": [
            "[50, 40, 30, 20, 10]\n"
          ]
        }
      ]
    },
    {
      "cell_type": "markdown",
      "source": [
        "#11. Write a code to create a tuple with the elements 100, 200, 300 and print it."
      ],
      "metadata": {
        "id": "YYnMQHlAfuu0"
      }
    },
    {
      "cell_type": "code",
      "source": [
        "my_tuple = (100, 200, 300)\n",
        "print(my_tuple)\n"
      ],
      "metadata": {
        "colab": {
          "base_uri": "https://localhost:8080/"
        },
        "id": "WT9ef8EUe7iL",
        "outputId": "e5d8720e-e299-44bd-8ff9-945cf9369674"
      },
      "execution_count": 50,
      "outputs": [
        {
          "output_type": "stream",
          "name": "stdout",
          "text": [
            "(100, 200, 300)\n"
          ]
        }
      ]
    },
    {
      "cell_type": "markdown",
      "source": [
        "#12. Write a code to access the second-to-last element of the tuple ('red', 'green', 'blue', 'yellow')."
      ],
      "metadata": {
        "id": "AHHZmvBDf57T"
      }
    },
    {
      "cell_type": "code",
      "source": [
        "colors = ('red', 'green', 'blue', 'yellow')\n",
        "element = colors[-2]\n",
        "print(element)\n"
      ],
      "metadata": {
        "colab": {
          "base_uri": "https://localhost:8080/"
        },
        "id": "TTX9VGaWf249",
        "outputId": "6123216c-e9ff-405b-eecb-c7ed32d672b5"
      },
      "execution_count": 51,
      "outputs": [
        {
          "output_type": "stream",
          "name": "stdout",
          "text": [
            "blue\n"
          ]
        }
      ]
    },
    {
      "cell_type": "code",
      "source": [],
      "metadata": {
        "id": "A_1Q_RhCgNIz"
      },
      "execution_count": null,
      "outputs": []
    },
    {
      "cell_type": "markdown",
      "source": [
        "#13. Write a code to find the minimum number in the tuple (10, 20, 5, 15)."
      ],
      "metadata": {
        "id": "7a41ODtUgOM2"
      }
    },
    {
      "cell_type": "code",
      "source": [
        "numbers = (10, 20, 5, 15)\n",
        "minimum = min(numbers)\n",
        "print(minimum)\n"
      ],
      "metadata": {
        "colab": {
          "base_uri": "https://localhost:8080/"
        },
        "id": "5mv-kqk3gWLE",
        "outputId": "0fc09a80-0e91-4ec1-c5dd-f533b2f5d796"
      },
      "execution_count": 52,
      "outputs": [
        {
          "output_type": "stream",
          "name": "stdout",
          "text": [
            "5\n"
          ]
        }
      ]
    },
    {
      "cell_type": "markdown",
      "source": [
        "#14. Write a code to find the index of the element \"cat\" in the tuple ('dog', 'cat', 'rabbit')."
      ],
      "metadata": {
        "id": "0zDivHosgZTy"
      }
    },
    {
      "cell_type": "code",
      "source": [
        "animals = ('dog', 'cat', 'rabbit')\n",
        "index = animals.index('cat')\n",
        "print(index)\n"
      ],
      "metadata": {
        "colab": {
          "base_uri": "https://localhost:8080/"
        },
        "id": "2dNpthgxgYQt",
        "outputId": "73d71f4a-9d0a-4ca5-f068-c25a8ce7dac4"
      },
      "execution_count": 53,
      "outputs": [
        {
          "output_type": "stream",
          "name": "stdout",
          "text": [
            "1\n"
          ]
        }
      ]
    },
    {
      "cell_type": "markdown",
      "source": [
        "#15. Write a code to create a tuple containing three different fruits and check if \"kiwi\" is in it."
      ],
      "metadata": {
        "id": "h1y6LFLsgrpS"
      }
    },
    {
      "cell_type": "code",
      "source": [
        "fruits = ('apple', 'banana', 'orange')\n",
        "exists = 'kiwi' in fruits\n",
        "print(exists)\n"
      ],
      "metadata": {
        "colab": {
          "base_uri": "https://localhost:8080/"
        },
        "id": "8XzF8m9qghJZ",
        "outputId": "38c1aee6-b5e6-4cb0-f1c9-5ed8b2db2546"
      },
      "execution_count": 54,
      "outputs": [
        {
          "output_type": "stream",
          "name": "stdout",
          "text": [
            "False\n"
          ]
        }
      ]
    },
    {
      "cell_type": "markdown",
      "source": [
        "#16. Write a code to create a set with the elements 'a', 'b', 'c' and print it."
      ],
      "metadata": {
        "id": "pxSkK9ybg88B"
      }
    },
    {
      "cell_type": "code",
      "source": [
        "my_set = {'a', 'b', 'c'}\n",
        "print(my_set)\n"
      ],
      "metadata": {
        "colab": {
          "base_uri": "https://localhost:8080/"
        },
        "id": "Gjowiuwpg8Sq",
        "outputId": "8be8e087-f524-40d7-9ec4-3a2908d5d1e2"
      },
      "execution_count": 55,
      "outputs": [
        {
          "output_type": "stream",
          "name": "stdout",
          "text": [
            "{'b', 'a', 'c'}\n"
          ]
        }
      ]
    },
    {
      "cell_type": "markdown",
      "source": [
        "# 17. Write a code to clear all elements from the set {1, 2, 3, 4, 5}."
      ],
      "metadata": {
        "id": "tSL2mB8xhII-"
      }
    },
    {
      "cell_type": "code",
      "source": [
        "my_set = {1, 2, 3, 4, 5}\n",
        "my_set.clear()\n",
        "print(my_set)\n"
      ],
      "metadata": {
        "colab": {
          "base_uri": "https://localhost:8080/"
        },
        "id": "RXD7Plnlg7fY",
        "outputId": "deae69a4-04ad-45b6-9481-03edb0abb4db"
      },
      "execution_count": 56,
      "outputs": [
        {
          "output_type": "stream",
          "name": "stdout",
          "text": [
            "set()\n"
          ]
        }
      ]
    },
    {
      "cell_type": "markdown",
      "source": [
        "#18. Write a code to remove the element 4 from the set {1, 2, 3, 4}."
      ],
      "metadata": {
        "id": "N0N8rmOshQw5"
      }
    },
    {
      "cell_type": "code",
      "source": [
        "my_set = {1, 2, 3, 4}\n",
        "my_set.remove(4)\n",
        "print(my_set)\n"
      ],
      "metadata": {
        "colab": {
          "base_uri": "https://localhost:8080/"
        },
        "id": "iFMUQb63hNaB",
        "outputId": "02612f66-598b-4bae-d42d-abc69438a7b8"
      },
      "execution_count": 57,
      "outputs": [
        {
          "output_type": "stream",
          "name": "stdout",
          "text": [
            "{1, 2, 3}\n"
          ]
        }
      ]
    },
    {
      "cell_type": "markdown",
      "source": [
        "# 19.Write a code to find the union of two sets {1, 2, 3} and {3, 4, 5}."
      ],
      "metadata": {
        "id": "UABmP0qzhXTR"
      }
    },
    {
      "cell_type": "code",
      "source": [
        "set1 = {1, 2, 3}\n",
        "set2 = {3, 4, 5}\n",
        "union_set = set1.union(set2)\n",
        "print(union_set)\n"
      ],
      "metadata": {
        "colab": {
          "base_uri": "https://localhost:8080/"
        },
        "id": "Dhss_WbohWkD",
        "outputId": "a6aed0bc-5dca-4b1c-fb28-3729a9e3ed0b"
      },
      "execution_count": 58,
      "outputs": [
        {
          "output_type": "stream",
          "name": "stdout",
          "text": [
            "{1, 2, 3, 4, 5}\n"
          ]
        }
      ]
    },
    {
      "cell_type": "markdown",
      "source": [
        "#20. Write a code to find the intersection of two sets {1, 2, 3} and {2, 3, 4}."
      ],
      "metadata": {
        "id": "19Kur2wThdzO"
      }
    },
    {
      "cell_type": "code",
      "source": [
        "set1 = {1, 2, 3}\n",
        "set2 = {2, 3, 4}\n",
        "intersection_set = set1.intersection(set2)\n",
        "print(intersection_set)\n"
      ],
      "metadata": {
        "colab": {
          "base_uri": "https://localhost:8080/"
        },
        "id": "pLOOgJnihdIT",
        "outputId": "acc33d35-2b95-42d5-f083-4ca6560ab084"
      },
      "execution_count": 59,
      "outputs": [
        {
          "output_type": "stream",
          "name": "stdout",
          "text": [
            "{2, 3}\n"
          ]
        }
      ]
    },
    {
      "cell_type": "markdown",
      "source": [
        "#21. Write a code to create a dictionary with the keys \"name\", \"age\", and \"city\", and print it."
      ],
      "metadata": {
        "id": "H7rlvRjKhl-R"
      }
    },
    {
      "cell_type": "code",
      "source": [
        "my_dict = {\"name\": \"John\", \"age\": 25, \"city\": \"New York\"}\n",
        "print(my_dict)\n"
      ],
      "metadata": {
        "colab": {
          "base_uri": "https://localhost:8080/"
        },
        "id": "t7Kz-hpHhlY8",
        "outputId": "fb05466a-fa51-4a8b-9c99-910d8d2b8ab0"
      },
      "execution_count": 60,
      "outputs": [
        {
          "output_type": "stream",
          "name": "stdout",
          "text": [
            "{'name': 'John', 'age': 25, 'city': 'New York'}\n"
          ]
        }
      ]
    },
    {
      "cell_type": "markdown",
      "source": [
        "#22. Write a code to add a new key-value pair \"country\": \"USA\" to the dictionary {'name': 'John', 'age': 25}."
      ],
      "metadata": {
        "id": "m8pDTwZFhuLR"
      }
    },
    {
      "cell_type": "code",
      "source": [
        "my_dict = {'name': 'John', 'age': 25}\n",
        "my_dict['country'] = 'USA'\n",
        "print(my_dict)\n"
      ],
      "metadata": {
        "colab": {
          "base_uri": "https://localhost:8080/"
        },
        "id": "9BcJmR69htZ-",
        "outputId": "d6aa5250-8623-4af2-b67c-e5d7979637fb"
      },
      "execution_count": 61,
      "outputs": [
        {
          "output_type": "stream",
          "name": "stdout",
          "text": [
            "{'name': 'John', 'age': 25, 'country': 'USA'}\n"
          ]
        }
      ]
    },
    {
      "cell_type": "markdown",
      "source": [
        "#23. Write a code to access the value associated with the key \"name\" in the dictionary {'name': 'Alice', 'age': 30}.\n"
      ],
      "metadata": {
        "id": "1Ejia6Xgh3RZ"
      }
    },
    {
      "cell_type": "code",
      "source": [
        "my_dict = {'name': 'Lukesh', 'age': 30}\n",
        "name_value = my_dict['name']\n",
        "print(name_value)\n"
      ],
      "metadata": {
        "colab": {
          "base_uri": "https://localhost:8080/"
        },
        "id": "kgzl8eW0h1Y0",
        "outputId": "662fcb96-4843-445f-e470-a08cf055d4c4"
      },
      "execution_count": 63,
      "outputs": [
        {
          "output_type": "stream",
          "name": "stdout",
          "text": [
            "Lukesh\n"
          ]
        }
      ]
    },
    {
      "cell_type": "markdown",
      "source": [
        "#24. Write a code to remove the key \"age\" from the dictionary {'name': 'Bob', 'age': 22, 'city': 'New York'}."
      ],
      "metadata": {
        "id": "1Ctort51iLEh"
      }
    },
    {
      "cell_type": "code",
      "source": [
        "my_dict = {'name': 'Bob', 'age': 22, 'city': 'New York'}\n",
        "del my_dict['age']\n",
        "print(my_dict)\n"
      ],
      "metadata": {
        "colab": {
          "base_uri": "https://localhost:8080/"
        },
        "id": "Jg5DS_ZTh-Ho",
        "outputId": "67596582-bdcb-4c0b-c5aa-3293de83e0a7"
      },
      "execution_count": 64,
      "outputs": [
        {
          "output_type": "stream",
          "name": "stdout",
          "text": [
            "{'name': 'Bob', 'city': 'New York'}\n"
          ]
        }
      ]
    },
    {
      "cell_type": "markdown",
      "source": [
        "#25. Write a code to check if the key \"city\" exists in the dictionary {'name': 'Alice', 'city': 'Paris'}."
      ],
      "metadata": {
        "id": "VL02HHWfiOGA"
      }
    },
    {
      "cell_type": "code",
      "source": [
        "my_dict = {'name': 'Alice', 'city': 'Paris'}\n",
        "exists = 'city' in my_dict\n",
        "print(exists)\n"
      ],
      "metadata": {
        "colab": {
          "base_uri": "https://localhost:8080/"
        },
        "id": "tOtqctrbiNWy",
        "outputId": "3ea5d0a4-fe91-4ed2-d52b-30e13f8ade35"
      },
      "execution_count": 65,
      "outputs": [
        {
          "output_type": "stream",
          "name": "stdout",
          "text": [
            "True\n"
          ]
        }
      ]
    },
    {
      "cell_type": "markdown",
      "source": [
        "#26. Write a code to create a list, a tuple, and a dictionary, and print them all."
      ],
      "metadata": {
        "id": "SQOkzhHRiatn"
      }
    },
    {
      "cell_type": "code",
      "source": [
        "my_list = [1, 2, 3]\n",
        "my_tuple = (4, 5, 6)\n",
        "my_dict = {'name': 'Lukesh', 'age': 25}\n",
        "\n",
        "print(my_list)\n",
        "print(my_tuple)\n",
        "print(my_dict)\n"
      ],
      "metadata": {
        "colab": {
          "base_uri": "https://localhost:8080/"
        },
        "id": "K5DBXhOGiVsI",
        "outputId": "2acb0287-bd6c-419b-9a6b-c3d996640b94"
      },
      "execution_count": 66,
      "outputs": [
        {
          "output_type": "stream",
          "name": "stdout",
          "text": [
            "[1, 2, 3]\n",
            "(4, 5, 6)\n",
            "{'name': 'Lukesh', 'age': 25}\n"
          ]
        }
      ]
    },
    {
      "cell_type": "markdown",
      "source": [
        "#27. Write a code to create a list of 5 random numbers between 1 and 100, sort it in ascending order, and print the result.(replaced)?"
      ],
      "metadata": {
        "id": "_tkzqlghim1p"
      }
    },
    {
      "cell_type": "code",
      "source": [
        "import random\n",
        "\n",
        "random_numbers = [random.randint(1, 100) for _ in range(5)]\n",
        "random_numbers.sort()\n",
        "random_numbers\n"
      ],
      "metadata": {
        "colab": {
          "base_uri": "https://localhost:8080/"
        },
        "id": "2ZDjfwH6ihSS",
        "outputId": "6325c22f-bc23-4b25-e8f3-14a2d60c6f6c"
      },
      "execution_count": 67,
      "outputs": [
        {
          "output_type": "execute_result",
          "data": {
            "text/plain": [
              "[8, 14, 33, 35, 94]"
            ]
          },
          "metadata": {},
          "execution_count": 67
        }
      ]
    },
    {
      "cell_type": "markdown",
      "source": [
        "#28. Write a code to create a list with strings and print the element at the third index."
      ],
      "metadata": {
        "id": "Smlqq4Hai_8Q"
      }
    },
    {
      "cell_type": "code",
      "source": [
        "my_list = [\"apple\", \"banana\", \"cherry\", \"date\", \"elderberry\"]\n",
        "print(my_list[3])\n"
      ],
      "metadata": {
        "colab": {
          "base_uri": "https://localhost:8080/"
        },
        "id": "zyFt6O-Ci9nX",
        "outputId": "f0973f76-956a-4bc1-8e54-cb9451b1cf96"
      },
      "execution_count": 68,
      "outputs": [
        {
          "output_type": "stream",
          "name": "stdout",
          "text": [
            "date\n"
          ]
        }
      ]
    },
    {
      "cell_type": "markdown",
      "source": [
        "#29. Write a code to combine two dictionaries into one and print the result."
      ],
      "metadata": {
        "id": "GQ4Qb9IjjJMn"
      }
    },
    {
      "cell_type": "code",
      "source": [
        "dict1 = {'name': 'Lukesh', 'age': 25}\n",
        "dict2 = {'city': 'Paris', 'country': 'France'}\n",
        "combined_dict = {**dict1, **dict2}\n",
        "print(combined_dict)\n"
      ],
      "metadata": {
        "colab": {
          "base_uri": "https://localhost:8080/"
        },
        "id": "vf9xAkYRjH3K",
        "outputId": "33070016-2375-4842-f12a-e06ff8c337ae"
      },
      "execution_count": 69,
      "outputs": [
        {
          "output_type": "stream",
          "name": "stdout",
          "text": [
            "{'name': 'Lukesh', 'age': 25, 'city': 'Paris', 'country': 'France'}\n"
          ]
        }
      ]
    },
    {
      "cell_type": "markdown",
      "source": [
        "#30. write a code to convert a list of strings into a set."
      ],
      "metadata": {
        "id": "vwgtytvMjSo6"
      }
    },
    {
      "cell_type": "code",
      "source": [
        "my_list = [\"apple\", \"banana\", \"cherry\", \"apple\"]\n",
        "my_set = set(my_list)\n",
        "print(my_set)\n"
      ],
      "metadata": {
        "colab": {
          "base_uri": "https://localhost:8080/"
        },
        "id": "fCmHgfGTjO10",
        "outputId": "17b5cbd6-c748-4a00-b6e5-c7a33f6d19a8"
      },
      "execution_count": 70,
      "outputs": [
        {
          "output_type": "stream",
          "name": "stdout",
          "text": [
            "{'banana', 'cherry', 'apple'}\n"
          ]
        }
      ]
    },
    {
      "cell_type": "code",
      "source": [],
      "metadata": {
        "id": "MCKPGxKjjXTS"
      },
      "execution_count": null,
      "outputs": []
    }
  ]
}